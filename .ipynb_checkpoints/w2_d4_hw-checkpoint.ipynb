{
 "cells": [
  {
   "cell_type": "markdown",
   "metadata": {},
   "source": [
    "#1) Address Book\n",
    "Develop a user-friendly program that acts as an address book. The program should have the following functionalities:\n",
    "\n",
    "Upon starting the program, create an empty dictionary to store names and addresses.\n",
    "\n",
    "Allow the user to add people to the address book. For each entry, prompt the user to input a name and its corresponding address. Store these as key-value pairs in the dictionary.\n",
    "\n",
    "Provide a clear and straightforward menu for the user, including options to add a new entry or quit the program.\n",
    "\n",
    "Implement a loop that allows users to continue adding entries until they explicitly choose to quit.\n",
    "\n",
    "When the user decides to quit, break out of the loop and display the collected information. Print out the names and addresses of everyone in the address book in a well-formatted manner.\n",
    "\n",
    "Consider adding error handling to handle unexpected inputs gracefully. For instance, if the user provides invalid input when prompted for a name or address, handle the error and ask for the information again.\n",
    "\n",
    "Provide a user-friendly and informative message when the program terminates, summarizing the data entered and thanking the user for using the address book."
   ]
  },
  {
   "cell_type": "code",
   "execution_count": 1,
   "metadata": {},
   "outputs": [
    {
     "name": "stdout",
     "output_type": "stream",
     "text": [
      "\n",
      "Address Book Menu:\n",
      "1. Add New Entry\n",
      "2. Edit Existing Entry\n",
      "3. Delete Entry\n",
      "4. Search Entries\n",
      "5. Quit\n",
      "Enter your choice (1-5): 5\n",
      "Exiting Address Book.\n"
     ]
    }
   ],
   "source": [
    "def address_book_program():\n",
    "    \"\"\"\n",
    "    Creates a user-friendly address book program with additional functionalities.\n",
    "    \"\"\"\n",
    "    address_book = {}\n",
    "\n",
    "    while True:\n",
    "        print(\"\\nAddress Book Menu:\")\n",
    "        print(\"1. Add New Entry\")\n",
    "        print(\"2. Edit Existing Entry\")\n",
    "        print(\"3. Delete Entry\")\n",
    "        print(\"4. Search Entries\")\n",
    "        print(\"5. Quit\")\n",
    "        choice = input(\"Enter your choice (1-5): \")\n",
    "\n",
    "        # Validate user input twice\n",
    "        valid_input = False\n",
    "        for _ in range(2):  # Loop twice for double validation\n",
    "            if choice not in (\"1\", \"2\", \"3\", \"4\", \"5\"):\n",
    "                print(\"Invalid choice. Please enter a number between 1 and 5.\")\n",
    "                choice = input(\"Enter your choice (1-5): \")  # ask for input again\n",
    "            else:\n",
    "                valid_input = True\n",
    "                break  # Exit inner loop if input is valid\n",
    "        if not valid_input:  # Break outer loop if input is invalid after 2 attempts\n",
    "            print(\"Too many invalid attempts. Try later.\")\n",
    "            break\n",
    "\n",
    "        if choice == \"1\":  # Add New Entry\n",
    "            name = input(\"Enter the name: \")\n",
    "            address = input(\"Enter the address: \")\n",
    "            address_book[name] = address\n",
    "            print(\"Entry added successfully!\")\n",
    "\n",
    "        elif choice == \"2\":  # Edit Existing Entry\n",
    "            name = input(\"Enter the name to edit: \")\n",
    "            if name in address_book:\n",
    "                address = input(\"Enter the new address: \")\n",
    "                address_book[name] = address\n",
    "                print(\"Entry edited successfully!\")\n",
    "            else:\n",
    "                print(\"Entry not found.\")\n",
    "\n",
    "        elif choice == \"3\":  # Delete Entry\n",
    "            name = input(\"Enter the name to delete: \")\n",
    "            if name in address_book:\n",
    "                del address_book[name]\n",
    "                print(\"Entry deleted successfully!\")\n",
    "            else:\n",
    "                print(\"Entry not found.\")\n",
    "\n",
    "        elif choice == \"4\":  # Search Entries\n",
    "            search_name = input(\"Enter the name to search: \")\n",
    "            if search_name in address_book:\n",
    "                print(f\"Address for {search_name}: {address_book[search_name]}\")\n",
    "            else:\n",
    "                print(\"Entry not found.\")\n",
    "\n",
    "        elif choice == \"5\":  # Quit\n",
    "            print(\"Exiting Address Book.\")\n",
    "            break\n",
    "\n",
    "        # Print all entries (optional)\n",
    "        if address_book:\n",
    "            print(\"\\nAddress Book Entries:\")\n",
    "            for name, address in address_book.items():\n",
    "                print(f\"{name}: {address}\")\n",
    "        else:\n",
    "            print(\"\\nAddress Book is empty.\")\n",
    "\n",
    "        # Thank you message\n",
    "        print(\"\\nThank you for using the Address Book!\")\n",
    "        break  # Exit the loop once the program finishes\n",
    "\n",
    "\n",
    "address_book_program()\n"
   ]
  },
  {
   "cell_type": "markdown",
   "metadata": {},
   "source": [
    "#2) Best Time to Meet\n",
    "Billy is trying to figure out if there is a time that he and his team can meet to work on the project. His three teammates each give him a set of times they are available ('HH:MM' 24-hour). Create a function that will take in any number of sets of available times (remember *args) and return a set of times where everyone can meet."
   ]
  },
  {
   "cell_type": "code",
   "execution_count": 2,
   "metadata": {},
   "outputs": [],
   "source": [
    "person1 = {'09:00', '10:30', '11:30', '12:00', '13:00', '14:30'}\n",
    "person2 = {'09:30', '10:00', '10:30', '12:00', '14:30', '16:00'}\n",
    "person3 = {'09:00', '09:30', '11:00', '11:30', '12:00', '13:30', '14:30', '15:00'}\n",
    "person4 = {'11:00', '11:30', '12:00', '14:00', '14:30', '16:30', '17:00'}\n",
    "# Available Times: '12:00' and '14:30'"
   ]
  },
  {
   "cell_type": "code",
   "execution_count": 4,
   "metadata": {},
   "outputs": [
    {
     "name": "stdout",
     "output_type": "stream",
     "text": [
      "Best time(s) to meet (most overlap): 14:30, 12:00\n"
     ]
    }
   ],
   "source": [
    "from datetime import datetime\n",
    "\n",
    "def find_best_time(*schedules):\n",
    "    \"\"\"\n",
    "    Finds the best time to meet based on availability of multiple people.\n",
    "\n",
    "    Args:\n",
    "        *schedules: Variable number of arguments, each representing a \n",
    "                        set of available times in 'HH:MM' format.\n",
    "\n",
    "    Returns:\n",
    "        A set of times (in 'HH:MM' format) with the most occurrences, \n",
    "        or an empty set if no common time is found.\n",
    "    \"\"\"\n",
    "    # Convert available times to datetime objects\n",
    "    availabilities = []\n",
    "    for schedule in schedules:\n",
    "        for time_str in schedule:\n",
    "            availabilities.append(datetime.strptime(time_str, \"%H:%M\"))\n",
    "\n",
    "    # Find the time with the most occurrences (most overlap)\n",
    "    times_dict = {}\n",
    "    for time in availabilities:\n",
    "        time_str = time.strftime(\"%H:%M\")\n",
    "        if time_str in times_dict:\n",
    "            times_dict[time_str] += 1\n",
    "        else:\n",
    "            times_dict[time_str] = 1\n",
    "\n",
    "    # Find the time(s) with the highest count and return its set\n",
    "    if times_dict:\n",
    "        max_count = max(times_dict.values())\n",
    "        best_times = [datetime.strptime(time, \"%H:%M\") for time, count in times_dict.items() if count == max_count]\n",
    "        return set([time.strftime(\"%H:%M\") for time in best_times])\n",
    "    else:\n",
    "        return set()\n",
    "\n",
    "# Call the function with test schedules\n",
    "best_meeting_times = find_best_time(person1, person2, person3, person4)\n",
    "if best_meeting_times:\n",
    "    print(\"Best time(s) to meet (most overlap):\", \", \".join(best_meeting_times))\n",
    "else:\n",
    "    print(\"No common time with the most occurrences found.\")\n"
   ]
  },
  {
   "cell_type": "code",
   "execution_count": null,
   "metadata": {},
   "outputs": [],
   "source": []
  }
 ],
 "metadata": {
  "kernelspec": {
   "display_name": "Python 3",
   "language": "python",
   "name": "python3"
  },
  "language_info": {
   "codemirror_mode": {
    "name": "ipython",
    "version": 3
   },
   "file_extension": ".py",
   "mimetype": "text/x-python",
   "name": "python",
   "nbconvert_exporter": "python",
   "pygments_lexer": "ipython3",
   "version": "3.7.3"
  }
 },
 "nbformat": 4,
 "nbformat_minor": 5
}
